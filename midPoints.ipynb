{
 "cells": [
  {
   "cell_type": "code",
   "execution_count": 227,
   "metadata": {},
   "outputs": [],
   "source": [
    "# import all needed libraries\n",
    "import matplotlib.pyplot as plt\n",
    "import math\n",
    "import pandas"
   ]
  },
  {
   "cell_type": "code",
   "execution_count": 229,
   "metadata": {},
   "outputs": [],
   "source": [
    "\n",
    "def importCones():\n",
    "    # import the data from the coens generated in excel\n",
    "    contents = pandas.read_csv(\"cones.csv\", sep= \",\", header=None).values\n",
    "\n",
    "    maxY = len(contents)\n",
    "    # print(contents)\n",
    "    # setup a list to store the cones\n",
    "    cones = []\n",
    "    for y, row in enumerate(contents):\n",
    "        for x, val in enumerate(row):\n",
    "            if isinstance(val, str):\n",
    "                # check if the car position has been given\n",
    "                if val == \"c\":\n",
    "                    # add the car position with x, y\n",
    "                    car = [(x+1), (maxY-y), val]\n",
    "                else:\n",
    "                    # add the cone with x, y and its colour\n",
    "                    cones.append([(x+1), (maxY-y), val])\n",
    "                    # print(x+1,maxY-y, val)\n",
    "        # print(i, row)\n",
    "    # print(cones)\n",
    "    return cones, car"
   ]
  },
  {
   "cell_type": "code",
   "execution_count": 230,
   "metadata": {},
   "outputs": [],
   "source": [
    "\n",
    "def calcMids(cones, carPos):\n",
    "\t# setup a list to store the midpoints\n",
    "\tmidPoints = []\n",
    "\t# split the cones up into red and blue\n",
    "\tredCones, blueCones = coneSetup(cones, carPos)\n",
    "\t# go through all the red cones\n",
    "\tfor rCone in redCones:\n",
    "\t\tfor bCone in blueCones:\n",
    "\t\t\t# find the distance between the two cones (cone distance)\n",
    "\t\t\tcd = findDisPoints(rCone, bCone)\n",
    "\t\t\t# check if they are in the suitable range\n",
    "\t\t\tif cd < 5:\n",
    "\t\t\t\tmidPoint = findMidPoint(rCone, bCone)\n",
    "\n",
    "\t\t\t\t# add the distance between the midpoint and the car (car to midpoint distance)\n",
    "\t\t\t\tc2md = findDisPoints(midPoint, carPos)\n",
    "\t\t\t\t# add that to the midpoint data (so that it can be sorted)\n",
    "\t\t\t\tmidPoint.append(c2md)\n",
    "\n",
    "\t\t\t\t# add the new midpoint to the list of midpoints\n",
    "\t\t\t\tmidPoints.append(midPoint)\n",
    "\t\n",
    "\t# order the midpoints from closest to furthest\n",
    "\tmidPoints = sorted(midPoints, key = lambda midPoint: midPoint[3])\n",
    "\n",
    "\t# return the midpoints calculated\n",
    "\treturn midPoints\n"
   ]
  },
  {
   "cell_type": "code",
   "execution_count": 231,
   "metadata": {},
   "outputs": [],
   "source": [
    "\n",
    "def coneSetup(cones, carPos):\n",
    "\t# setup lists of red and blue cones to fill up\n",
    "\tredCones = []\n",
    "\tblueCones = []\n",
    "\tfor cone in cones:\n",
    "\t\t# find the distance between the car and cone\n",
    "\t\tdistance = findDisPoints(cone, carPos)\n",
    "\n",
    "\t\t# if cones is red and in range\n",
    "\t\tif cone[2] == 'r' and distance < 15:\n",
    "\t\t\t# add distnace to the cone data\n",
    "\t\t\tcone.append(distance)\n",
    "\t\t\t# add cone to the red list\n",
    "\t\t\tredCones.append(cone)\n",
    "\t\t# if coen is blue and in range\n",
    "\t\telif cone[2] == 'b' and distance < 15:\n",
    "\t\t\t# add distance to the cone data\n",
    "\t\t\tcone.append(distance)\n",
    "\t\t\t# add cone to the blue list\n",
    "\t\t\tblueCones.append(cone)\n",
    "\n",
    "\t# return the lists of red and blue cones\n",
    "\treturn redCones, blueCones\n"
   ]
  },
  {
   "cell_type": "code",
   "execution_count": 232,
   "metadata": {},
   "outputs": [],
   "source": [
    "\n",
    "def findDisPoints(point1, point2):\n",
    "\t# work out the distance between two points using the maths library\n",
    "\tdistance = math.hypot(point2[0] - point1[0], point2[1] - point1[1])\n",
    "\treturn distance\n"
   ]
  },
  {
   "cell_type": "code",
   "execution_count": 233,
   "metadata": {},
   "outputs": [],
   "source": [
    "\n",
    "def findMidPoint(point1, point2):\n",
    "\tmidPoint = []\n",
    "\tmidPoint.append((point1[0]+point2[0])/2) # x coordinate\n",
    "\tmidPoint.append((point1[1]+point2[1])/2) # y coordinate\n",
    "\treturn midPoint + ['m']\n"
   ]
  },
  {
   "cell_type": "code",
   "execution_count": 234,
   "metadata": {},
   "outputs": [],
   "source": [
    "\n",
    "def displayMap(pointMap):\n",
    "\t# add a grid\n",
    "\tplt.grid(visible = True, which = 'major', axis = 'both', alpha = 0.2)\n",
    "\tfor point in pointMap:\n",
    "\t\t# get parameters from point\n",
    "\t\tx = float(point[0])\n",
    "\t\ty = float(point[1])\n",
    "\t\tif point[2] == \"r\":\n",
    "\t\t\tcolour = \"red\"\n",
    "\t\t\tmark = 'o'\n",
    "\t\telif point[2] == \"b\":\n",
    "\t\t\tcolour = \"blue\"\n",
    "\t\t\tmark = 'o'\n",
    "\t\telif point[2] == \"c\":\n",
    "\t\t\tcolour = \"green\"\n",
    "\t\t\tmark = 'x'\n",
    "\t\telse:\n",
    "\t\t\tcolour = \"orange\"\n",
    "\t\t\tmark = 'x'\n",
    "\t\t# plot the point into the map\n",
    "\t\tplt.scatter(x, y, marker=mark, color=colour)\n",
    "\t# display the map generated\n",
    "\tplt.show()\n"
   ]
  },
  {
   "cell_type": "code",
   "execution_count": 235,
   "metadata": {},
   "outputs": [],
   "source": [
    "def startup():\n",
    "\t# there are two possible configurations that we will be given\n",
    "\t# [x, y] in list (BASED ON THIS FOR NOW)\n",
    "\t# or list of [x] followed by [y]\n",
    "\n",
    "\t# using a file to generate the points\n",
    "\ttxtMidPoints = open(\"midPoints.txt\", \"r\")\n",
    "\tls = txtMidPoints.readlines()\n",
    "\tcones = []\n",
    "\tfor line in ls:\n",
    "\t\txy = line.strip(\"\\n\")\n",
    "\t\tpoint = xy.split(\",\")\n",
    "\t\tcones.append([float(point[0]), float(point[1]), point[2]])\n",
    "\ttxtMidPoints.close()\n",
    "\treturn cones\n"
   ]
  },
  {
   "cell_type": "code",
   "execution_count": 239,
   "metadata": {},
   "outputs": [
    {
     "name": "stdout",
     "output_type": "stream",
     "text": [
      "Cones: [[10, 27, 'r'], [14, 27, 'b'], [9, 25, 'r'], [8, 22, 'r'], [13, 22, 'b'], [6, 19, 'r'], [12, 19, 'b'], [11, 16, 'b'], [5, 15, 'r'], [9, 14, 'b'], [3, 12, 'r'], [7, 11, 'b'], [2, 10, 'r'], [6, 8, 'b'], [1, 7, 'r'], [5, 6, 'b'], [1, 3, 'r'], [5, 3, 'b']]\n",
      "\n",
      "Car Position: [3, 1, 'c']\n",
      "\n",
      "Midpoints: [[3.0, 3.0, 'm', 2.0], [3.0, 6.5, 'm', 5.5], [4.0, 9.0, 'm', 8.06225774829855], [5.0, 11.5, 'm', 10.688779163215974], [6.0, 13.0, 'm', 12.36931687685298], [7.0, 14.5, 'm', 14.080127840328723]]\n",
      "\n",
      "Amount of midpoints: 6\n"
     ]
    },
    {
     "data": {
      "image/png": "[encoded data removed]",
      "text/plain": [
       "<Figure size 640x480 with 1 Axes>"
      ]
     },
     "metadata": {},
     "output_type": "display_data"
    }
   ],
   "source": [
    "### MAIN\n",
    "# get the position of the cones from the text file\n",
    "# conesLs = startup()\n",
    "conesLs, carPos = importCones()\n",
    "# display the cones and car position\n",
    "print(\"Cones:\", conesLs)\n",
    "print(\"\\nCar Position:\", carPos)\n",
    "\n",
    "# calculate the midpoints from the cones and car position\n",
    "midPoints = calcMids(conesLs, carPos)\n",
    "\n",
    "# display all the midpoints calculated\n",
    "print(\"\\nMidpoints:\", midPoints)\n",
    "print(\"\\nAmount of midpoints:\", len(midPoints))\n",
    "\n",
    "# display the outputs in a graph\n",
    "allPoints = conesLs + midPoints + [carPos]\n",
    "displayMap(allPoints)"
   ]
  }
 ],
 "metadata": {
  "kernelspec": {
   "display_name": "Python 3.10.5 ('midPoints': venv)",
   "language": "python",
   "name": "python3"
  },
  "language_info": {
   "codemirror_mode": {
    "name": "ipython",
    "version": 3
   },
   "file_extension": ".py",
   "mimetype": "text/x-python",
   "name": "python",
   "nbconvert_exporter": "python",
   "pygments_lexer": "ipython3",
   "version": "3.10.5"
  },
  "orig_nbformat": 4,
  "vscode": {
   "interpreter": {
    "hash": "38e3d66f3d35dcf8de6095efc1ba9542dd55e955a1dd4a7187f9c58be1b9e00e"
   }
  }
 },
 "nbformat": 4,
 "nbformat_minor": 2
}
